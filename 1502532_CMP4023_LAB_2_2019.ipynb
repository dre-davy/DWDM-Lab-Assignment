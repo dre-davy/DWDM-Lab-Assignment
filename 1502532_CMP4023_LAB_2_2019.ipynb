{
  "cells": [
    {
      "metadata": {
        "_uuid": "8f2839f25d086af736a60e9eeb907d3b93b6e0e5",
        "_cell_guid": "b1076dfc-b9ad-4769-8c92-a6c4dae69d19",
        "trusted": true
      },
      "cell_type": "code",
      "source": "# This Python 3 environment comes with many helpful analytics libraries installed\n# It is defined by the kaggle/python docker image: https://github.com/kaggle/docker-python\n# For example, here's several helpful packages to load in \n\nimport numpy as np # linear algebra\nimport pandas as pd # data processing, CSV file I/O (e.g. pd.read_csv)\nimport matplotlib.pyplot as plt\nimport seaborn as sns\n%matplotlib inline\n\n# Input data files are available in the \"../input/\" directory.\n# For example, running this (by clicking run or pressing Shift+Enter) will list the files in the input directory\n\nimport os\nprint(os.listdir(\"../input\"))\n\n# Any results you write to the current directory are saved as output.",
      "execution_count": null,
      "outputs": []
    },
    {
      "metadata": {
        "trusted": true,
        "_uuid": "1738e0426cbb6194948a526f820923f3a9009e45"
      },
      "cell_type": "code",
      "source": "data_path = '../input/hr_data.csv' # Path to data file\ndata = pd.read_csv(data_path) \ndata.head(15)",
      "execution_count": null,
      "outputs": []
    },
    {
      "metadata": {
        "trusted": true,
        "_uuid": "6d02b53c3d53af56a12199356bb0c9083d0b41a0"
      },
      "cell_type": "code",
      "source": "data.columns",
      "execution_count": null,
      "outputs": []
    },
    {
      "metadata": {
        "trusted": true,
        "_uuid": "2f2db3060933e1719aa2f9610d45dcf9135323d3"
      },
      "cell_type": "code",
      "source": "data.describe()",
      "execution_count": null,
      "outputs": []
    },
    {
      "metadata": {
        "trusted": true,
        "_uuid": "e72dac3b9c64c697cdaee728da42c98c21797670"
      },
      "cell_type": "code",
      "source": "data['salary'].value_counts().plot(kind='bar')",
      "execution_count": null,
      "outputs": []
    },
    {
      "metadata": {
        "trusted": true,
        "_uuid": "fdc3d6ccb5e32b0a70d5deb184f32534479b7520"
      },
      "cell_type": "code",
      "source": "for col in data.columns[2:8]:\n    data[col].plot(kind='box')\n    plt.title('Box Plot for '+col)\n    plt.show()",
      "execution_count": null,
      "outputs": []
    },
    {
      "metadata": {
        "trusted": true,
        "_uuid": "bcd70acb48c696bc0aeaa69c205c915cc7195a1f"
      },
      "cell_type": "code",
      "source": "cluster_data = data[['satisfaction_level','time_spend_company']]\ncluster_data.head()",
      "execution_count": null,
      "outputs": []
    },
    {
      "metadata": {
        "trusted": true,
        "_uuid": "05c7a43af2b29b9e0de36ffcb83bdc69c0e1e6b8"
      },
      "cell_type": "code",
      "source": "cluster_data.plot(kind='scatter',x='satisfaction_level',y='time_spend_company')",
      "execution_count": null,
      "outputs": []
    },
    {
      "metadata": {
        "trusted": true,
        "_uuid": "5e5a701d9652dff347548d7e0dc5322ca7fb0afb"
      },
      "cell_type": "code",
      "source": "#Checking missing data\nmissing_data_results = cluster_data.isnull().sum()\nprint(missing_data_results)",
      "execution_count": null,
      "outputs": []
    },
    {
      "metadata": {
        "trusted": true,
        "_uuid": "5f969f40fc6de1086a0974d99a6d23db6525c748"
      },
      "cell_type": "code",
      "source": "data_values = cluster_data.iloc[ :, :].values\ndata_values",
      "execution_count": null,
      "outputs": []
    },
    {
      "metadata": {
        "trusted": true,
        "_uuid": "8dece906e96520d199fb63b9daded1d766ef8e77"
      },
      "cell_type": "code",
      "source": "from sklearn.cluster import KMeans",
      "execution_count": null,
      "outputs": []
    },
    {
      "metadata": {
        "trusted": true,
        "_uuid": "ce1352d2e5fe7f559dfcc9276bc3c359d3895b62"
      },
      "cell_type": "code",
      "source": "#WCSS (within-cluster sums of squares) to find a number of clusters\nwcss = []\nfor i in range( 1, 15 ):\n    kmeans = KMeans(n_clusters=i, init=\"k-means++\", n_init=10, max_iter=300) \n    kmeans.fit_predict( data_values )\n    wcss.append( kmeans.inertia_ )\n    \nplt.plot( wcss, 'ro-', label=\"WCSS\")\nplt.title(\"Computing WCSS for KMeans++\")\nplt.xlabel(\"Number of clusters\")\nplt.ylabel(\"WCSS\")\nplt.show()",
      "execution_count": null,
      "outputs": []
    },
    {
      "metadata": {
        "trusted": true,
        "_uuid": "bc5fbb3891f091bd859c71e96c86d901c5c7c549"
      },
      "cell_type": "code",
      "source": "kmeans = KMeans(n_clusters=3, init=\"k-means++\", n_init=10, max_iter=300) \ncluster_data[\"cluster\"] = kmeans.fit_predict( data_values )\ncluster_data",
      "execution_count": null,
      "outputs": []
    },
    {
      "metadata": {
        "trusted": true,
        "_uuid": "af21516b0ee0bfc5b4d8b7eb5d9b895fcf2773a7"
      },
      "cell_type": "code",
      "source": "cluster_data['cluster'].value_counts()",
      "execution_count": null,
      "outputs": []
    },
    {
      "metadata": {
        "trusted": true,
        "_uuid": "0f9b06cfa80fa57149ee0dec5b946a2bdbc636af"
      },
      "cell_type": "code",
      "source": "cluster_data['cluster'].value_counts().plot(kind='bar',title='Distribution of Employees across groups')",
      "execution_count": null,
      "outputs": []
    },
    {
      "metadata": {
        "trusted": true,
        "_uuid": "978583c9018e9d8c20e7f307b1ad09fe86e0d87e"
      },
      "cell_type": "code",
      "source": "sns.pairplot( cluster_data, hue=\"cluster\")",
      "execution_count": null,
      "outputs": []
    },
    {
      "metadata": {
        "trusted": true,
        "_uuid": "adee6f230f87e5235104cff9feae77eb1743817f"
      },
      "cell_type": "code",
      "source": "grouped_cluster_data = cluster_data.groupby('cluster')\ngrouped_cluster_data",
      "execution_count": null,
      "outputs": []
    },
    {
      "metadata": {
        "trusted": true,
        "_uuid": "5fb16f591a45fc51bdc49cb6b4c1837cdbfd7713"
      },
      "cell_type": "code",
      "source": "grouped_cluster_data.describe()",
      "execution_count": null,
      "outputs": []
    },
    {
      "metadata": {
        "trusted": true,
        "_uuid": "088973a23993bb0d8b156ad1aec4457eff1ea905"
      },
      "cell_type": "code",
      "source": "grouped_cluster_data.plot(subplots=True)",
      "execution_count": null,
      "outputs": []
    },
    {
      "metadata": {
        "trusted": true,
        "_uuid": "df82b21de0dc48c568dea8e82f8db4ee4d48f371"
      },
      "cell_type": "code",
      "source": "",
      "execution_count": null,
      "outputs": []
    }
  ],
  "metadata": {
    "kernelspec": {
      "display_name": "Python 3",
      "language": "python",
      "name": "python3"
    },
    "language_info": {
      "name": "python",
      "version": "3.6.6",
      "mimetype": "text/x-python",
      "codemirror_mode": {
        "name": "ipython",
        "version": 3
      },
      "pygments_lexer": "ipython3",
      "nbconvert_exporter": "python",
      "file_extension": ".py"
    }
  },
  "nbformat": 4,
  "nbformat_minor": 1
}